{
 "cells": [
  {
   "attachments": {},
   "cell_type": "markdown",
   "metadata": {},
   "source": [
    "# Artificial Intelligence Analysis of U.S. President’s Wikipedia Pages\n",
    "import packages"
   ]
  },
  {
   "cell_type": "code",
   "execution_count": 1,
   "metadata": {},
   "outputs": [],
   "source": [
    "import pandas as pd\n",
    "import numpy as np\n",
    "import wikipedia\n",
    "import nltk\n",
    "from nltk.corpus import stopwords\n",
    "from nltk.stem import PorterStemmer\n",
    "from nltk.stem import WordNetLemmatizer\n",
    "import gensim\n",
    "from gensim.models.doc2vec import Doc2Vec, TaggedDocument\n",
    "import string\n",
    "\n",
    "\n",
    "from bokeh.layouts import row\n",
    "from bokeh.plotting import figure, show, output_file"
   ]
  },
  {
   "cell_type": "markdown",
   "metadata": {},
   "source": [
    "Alter stop words and lemmatize/stem"
   ]
  },
  {
   "cell_type": "code",
   "execution_count": 2,
   "metadata": {},
   "outputs": [],
   "source": [
    "# nltk.download('stopwords')\n",
    "# nltk.download('wordnet')\n",
    "stop_words = stopwords.words('english')\n",
    "stop_words.append(\"–\")\n",
    "stop_words.append(\"president\")\n",
    "ps = PorterStemmer()\n",
    "lemmatizer = WordNetLemmatizer()"
   ]
  },
  {
   "cell_type": "markdown",
   "metadata": {},
   "source": [
    "List of presidents"
   ]
  },
  {
   "cell_type": "code",
   "execution_count": 3,
   "metadata": {},
   "outputs": [],
   "source": [
    "president_list = pd.read_csv(\"Presidents_List.csv\")"
   ]
  },
  {
   "cell_type": "markdown",
   "metadata": {},
   "source": [
    "Get wikipedia page for each president"
   ]
  },
  {
   "cell_type": "code",
   "execution_count": 4,
   "metadata": {},
   "outputs": [],
   "source": [
    "president_summary = {}\n",
    "\n",
    "for president in president_list.President:\n",
    "    president_summary[president] = wikipedia.page(president).content"
   ]
  },
  {
   "cell_type": "markdown",
   "metadata": {},
   "source": [
    "Clean wikipedia pages"
   ]
  },
  {
   "cell_type": "code",
   "execution_count": 5,
   "metadata": {},
   "outputs": [],
   "source": [
    "for key, value in president_summary.items():\n",
    "    president_summary[key] = value.replace(\"\\n\",\" \").replace(\"\\'\", '').replace('U.S.',\"usa\").translate(str.maketrans('', '', string.punctuation)).lower()"
   ]
  },
  {
   "cell_type": "code",
   "execution_count": 6,
   "metadata": {
    "scrolled": false
   },
   "outputs": [],
   "source": [
    "for key, value in president_summary.items():\n",
    "    president_summary[key] = [lemmatizer.lemmatize(word) for word in value.split() if word not in stop_words]"
   ]
  },
  {
   "cell_type": "code",
   "execution_count": 7,
   "metadata": {},
   "outputs": [],
   "source": [
    "docs = [TaggedDocument(words=doc, tags=[president]) for president, doc in president_summary.items()]"
   ]
  },
  {
   "cell_type": "markdown",
   "metadata": {},
   "source": [
    "Create doc2vec model"
   ]
  },
  {
   "cell_type": "code",
   "execution_count": 8,
   "metadata": {},
   "outputs": [],
   "source": [
    "model = Doc2Vec(docs, vector_size = 500, window = 10000, epohcs = 10000, min_count = 10, dm = 0)\n",
    "# model = Doc2Vec(docs, vector_size = 500, window = 500, epohcs = 1000, min_count = 10, dm = 0)"
   ]
  },
  {
   "cell_type": "code",
   "execution_count": 9,
   "metadata": {},
   "outputs": [],
   "source": [
    "president_vectors = {}\n",
    "\n",
    "for key, value in president_summary.items():\n",
    "    president_vectors[key] = model.infer_vector(value)"
   ]
  },
  {
   "cell_type": "markdown",
   "metadata": {},
   "source": [
    "Example vector"
   ]
  },
  {
   "cell_type": "code",
   "execution_count": 10,
   "metadata": {},
   "outputs": [
    {
     "data": {
      "text/plain": [
       "array([ 0.01831611, -0.47972888,  0.09929533,  0.42860243, -0.22098155,\n",
       "       -0.08425616, -0.227983  , -0.13757825,  0.47061104,  0.49542436,\n",
       "        0.43103248, -0.27305454,  0.5245514 ,  0.5202317 , -0.77000225,\n",
       "        0.38920757,  0.42298615, -0.02251006, -0.07992351,  0.34191126,\n",
       "       -0.12678705,  0.32932577,  0.11811235,  0.32906502,  0.43123484,\n",
       "        0.2219002 , -0.17887728, -0.17891474,  0.23089007, -0.54855436,\n",
       "       -0.64262825,  0.23106219, -0.16969416,  0.00301033,  0.0360023 ,\n",
       "       -0.5136737 , -0.03666347, -0.21844429,  0.54448223,  0.3697777 ,\n",
       "       -0.21822606,  0.01797543, -0.23032805,  0.57217115, -0.22993429,\n",
       "        0.36369598, -0.09561518, -0.05892869, -0.09020491,  0.2584546 ,\n",
       "       -0.44631273,  0.06878059,  0.31699482,  0.0444587 ,  0.4905105 ,\n",
       "        0.13186859, -0.13088551,  0.51929176, -0.28135827, -0.56241035,\n",
       "       -0.08393034, -0.1270318 ,  0.19621807, -0.17325787,  0.00220444,\n",
       "       -0.23690209,  0.00994045, -0.3285618 ,  0.58687395,  0.3547634 ,\n",
       "        0.35673434,  0.08471391,  0.24945007,  0.5557183 ,  0.24946555,\n",
       "        0.3172578 ,  0.7341691 , -0.33597818,  0.650767  ,  0.26033157,\n",
       "       -0.3696923 ,  0.35884866, -0.04754537, -0.42727062, -0.16491158,\n",
       "       -0.11898445, -0.08458606, -0.1395763 ,  0.16041212, -0.26766947,\n",
       "        0.30590975, -0.32063007, -0.33062777, -0.22638623, -0.13664787,\n",
       "       -0.00445238,  0.387341  , -0.03529776, -0.59329396,  0.18565242,\n",
       "       -0.12635347,  0.12162305,  0.5617655 , -0.00286441,  0.12132889,\n",
       "        0.4182347 ,  0.06693443,  0.59781706, -0.3227665 , -0.31809253,\n",
       "       -0.4750926 ,  0.33237252,  0.01818954,  0.14324255,  0.02892497,\n",
       "       -0.27564517,  0.19378896,  0.08629929,  0.04573021, -0.17175083,\n",
       "        0.3450173 ,  0.24456099,  0.42814893,  0.3307718 ,  0.29424334,\n",
       "        0.35506412, -0.21692966, -0.03486327,  0.24018426, -0.3872944 ,\n",
       "        0.33469123,  0.47723323,  0.6133766 , -0.29679966,  0.56379646,\n",
       "       -0.8782304 ,  0.06020886, -0.00517888,  0.09869886,  0.50121325,\n",
       "       -0.15766163,  0.1213174 , -0.14942893,  0.52747744, -0.14332421,\n",
       "       -0.11728512, -0.60040784,  0.01200075,  0.2451106 ,  0.0943918 ,\n",
       "        0.29281524,  0.46533227, -0.11628719,  0.24049035,  0.7590204 ,\n",
       "       -0.31968516,  0.43358013,  0.04812621, -0.30163512,  0.2241563 ,\n",
       "       -0.17013115,  0.17081223,  0.03060379, -0.24661885, -0.01585447,\n",
       "       -0.28269127,  0.0495898 , -0.40638584,  0.37559593, -0.71205825,\n",
       "       -0.16691783,  0.11515401, -0.36815864, -0.47197834,  0.4284436 ,\n",
       "       -0.29509804,  0.09068876, -0.7560068 ,  0.2839757 , -0.716792  ,\n",
       "        0.32783997,  0.44607174, -0.04016654,  0.40921026,  0.02066972,\n",
       "       -0.378865  ,  0.17486142,  0.54430556, -0.31201044,  0.16772553,\n",
       "        0.6577516 ,  0.3174954 ,  0.06636193,  0.38847947,  0.4391943 ,\n",
       "        0.17352524, -0.28867975,  0.2585496 ,  0.630913  , -0.07399645,\n",
       "        0.2129749 ,  0.23915172, -0.65898734, -0.14666091, -0.3730623 ,\n",
       "        0.5233941 ,  0.36697075,  0.21059014,  0.5398809 ,  0.74052006,\n",
       "       -0.06416763, -0.22930276,  0.08889603,  0.42943537,  0.63252753,\n",
       "        0.07315592, -0.09372139,  0.03123201, -0.2574497 , -0.15137286,\n",
       "       -0.02183932,  0.21321152, -0.44575414, -0.25786284, -0.1949751 ,\n",
       "       -0.25071067, -0.5365451 ,  0.07766171, -0.19855131,  0.30989087,\n",
       "        0.5217214 , -0.05078297,  0.14378557,  0.24561138,  0.12813686,\n",
       "       -0.36341903,  0.34388345,  0.40633667, -0.00666152, -0.00533456,\n",
       "        0.7721124 ,  0.49023145, -0.38019478, -0.16368234, -0.25081035,\n",
       "        0.3060895 ,  0.060964  , -0.5173206 ,  0.26858097,  0.05182742,\n",
       "       -0.10855065,  0.31725883, -0.40410432,  0.09043227,  0.28525022,\n",
       "       -0.17468119,  0.377167  ,  0.03594453,  0.8175848 , -0.09774357,\n",
       "       -0.17285074,  0.46829653, -0.64738786, -0.11461888, -0.12521346,\n",
       "        0.26923442, -0.10457651, -0.32673505,  0.10633099, -0.00431034,\n",
       "       -0.2604023 , -0.21712591, -0.3751537 , -0.06382053, -0.27207133,\n",
       "        0.3391947 ,  0.05861892,  0.37726852,  0.06619775,  0.14256123,\n",
       "        0.26447362,  0.0416746 , -0.04027586, -0.09632389, -0.01996815,\n",
       "        0.05026948,  0.25872096,  0.0113164 , -0.48693678,  0.14666669,\n",
       "        0.42598808,  0.46230924, -0.38222873, -0.02410221,  0.48769686,\n",
       "       -0.01035594, -0.32490417,  0.40418893,  0.12021548,  0.02022062,\n",
       "        0.4270906 , -0.6414668 ,  0.12671827, -0.47067004, -0.45876956,\n",
       "        0.5220753 ,  0.14822605,  0.4938691 ,  0.23409133, -0.08141927,\n",
       "       -0.29619488, -0.27773818, -0.16694845,  0.05975205,  0.0904823 ,\n",
       "       -0.27395892,  0.4108378 ,  0.53444195, -0.59592366,  0.50480103,\n",
       "       -0.44684255, -0.4242682 , -0.08035177, -0.47922117,  0.42261952,\n",
       "        0.17122401,  0.24441141,  0.04233408,  0.13566636,  0.34731907,\n",
       "        0.48638546,  0.20980783, -0.16014817,  0.26570565,  0.17745641,\n",
       "        0.08498359, -0.3321723 , -0.49429795,  0.20299356,  0.32617444,\n",
       "       -0.05358556, -0.36978087, -0.07742564,  0.7070452 , -0.07422282,\n",
       "        0.3791763 , -0.18773933, -0.74890554,  0.11637712, -0.18027146,\n",
       "       -0.22081085, -0.17848195, -0.31379628, -0.05357386, -0.17571968,\n",
       "       -0.14760433,  0.2530365 ,  0.28719184,  0.32124415, -0.4442942 ,\n",
       "       -0.24244468,  0.23542137, -0.0667773 ,  0.00278497,  0.23187962,\n",
       "       -0.04257403,  0.01217564, -0.57256496, -0.2415254 , -0.55070496,\n",
       "        0.32052922,  0.1893525 ,  0.03362107,  0.543534  , -0.2747395 ,\n",
       "       -0.1713941 , -0.1253635 ,  0.3219817 , -0.05123404, -0.3164081 ,\n",
       "        0.83323306,  0.29744542,  0.2698417 ,  0.08472259, -0.01423663,\n",
       "        0.38596743, -0.24376342,  0.42675924, -0.62949103,  0.05105326,\n",
       "       -0.1506729 ,  0.29352868, -0.22174491, -0.34943876, -0.28449437,\n",
       "       -0.14651331,  0.07314652,  0.12671338,  0.12906446, -0.4497567 ,\n",
       "       -0.73945856, -0.23190026, -0.03685821,  0.12295197,  0.16537431,\n",
       "        0.45447922, -0.05323955,  0.33738908, -0.12454531, -0.00878645,\n",
       "       -0.20998046, -0.9191531 , -0.17119963, -0.13833106, -0.24332969,\n",
       "       -0.9363275 ,  0.24768141,  0.32118055,  0.03535366,  0.28914598,\n",
       "        0.20478335,  0.40198708, -0.33317283, -0.11246954,  0.16426016,\n",
       "       -0.2535011 , -0.4012309 , -0.21674915, -0.29837373, -0.7060866 ,\n",
       "       -0.33698693, -0.33408135, -0.10116975,  0.29507998,  0.09521047,\n",
       "       -0.4087356 , -0.23891132,  0.19677775, -0.35676992, -0.2592035 ,\n",
       "       -0.38482496,  0.24376582,  0.02938017,  1.1303983 , -0.10176124,\n",
       "        0.13962513,  0.6427474 ,  0.2072462 , -0.23494326,  0.08167118,\n",
       "       -0.32754597,  0.11253508,  0.3348981 ,  0.28156537,  0.29106838,\n",
       "       -0.13788413, -0.06339148,  0.26660058,  0.01324656,  0.10468244,\n",
       "       -0.39914423, -0.04234933, -0.23476298, -0.17495818,  0.37011543,\n",
       "        0.26118276,  0.17049137,  0.36934093,  0.05573214,  0.45986727,\n",
       "        0.37915412,  0.12146902, -0.14805168,  0.34696522,  0.01466659,\n",
       "       -0.49454832, -0.43621457,  0.36862278,  0.6434052 , -0.37191698,\n",
       "        0.17722046,  0.21171166,  0.10050297,  0.18228434, -0.24333978,\n",
       "        0.32580453, -0.46358627,  0.03456164,  0.04345981, -0.18045801,\n",
       "        0.29785764, -0.19335748,  0.13145371,  0.54836065, -0.2847912 ,\n",
       "       -0.18022314,  0.06504943, -0.3803873 , -0.26934886,  0.2986432 ],\n",
       "      dtype=float32)"
      ]
     },
     "execution_count": 10,
     "metadata": {},
     "output_type": "execute_result"
    }
   ],
   "source": [
    "president_vectors[\"George Washington\"]"
   ]
  },
  {
   "cell_type": "code",
   "execution_count": 11,
   "metadata": {},
   "outputs": [
    {
     "name": "stdout",
     "output_type": "stream",
     "text": [
      "Enter a phrase and I'll tell you what president it is most closely reltaed to: vietnam texas\n",
      "['vietnam', 'texas']\n"
     ]
    },
    {
     "data": {
      "text/plain": [
       "[('Lyndon B. Johnson', 0.7626705169677734),\n",
       " ('Dwight Eisenhower', 0.7375028729438782),\n",
       " ('Richard Nixon', 0.7336450815200806),\n",
       " ('John F. Kennedy', 0.7012069225311279),\n",
       " ('Ronald Reagan', 0.6843741536140442),\n",
       " ('Gerald Ford', 0.6612430214881897),\n",
       " ('Bill Clinton', 0.6369781494140625),\n",
       " ('Calvin Coolidge', 0.6149967908859253),\n",
       " ('George W. Bush', 0.6146621704101562),\n",
       " ('George Bush', 0.6108454465866089)]"
      ]
     },
     "execution_count": 11,
     "metadata": {},
     "output_type": "execute_result"
    }
   ],
   "source": [
    "user_words = input(\"Enter a phrase and I'll tell you what president it is most closely reltaed to: \")\n",
    "user_words = user_words.replace(\"\\n\",\" \").replace(\"\\'\", '').replace('U.S.',\"usa\").translate(str.maketrans('', '', string.punctuation)).lower()\n",
    "\n",
    "user_words = [lemmatizer.lemmatize(word) for word in user_words.split() if word not in stop_words]\n",
    "\n",
    "print(user_words)\n",
    "\n",
    "vector = model.infer_vector(user_words)\n",
    "\n",
    "model.docvecs.most_similar([vector])"
   ]
  },
  {
   "cell_type": "markdown",
   "metadata": {},
   "source": [
    "Using a president's own wikipedia page, find the most similar wikipedia page. Put output into bar chart made with bokeh"
   ]
  },
  {
   "cell_type": "code",
   "execution_count": 12,
   "metadata": {},
   "outputs": [],
   "source": [
    "top10 = model.docvecs.most_similar([president_vectors[\"Thomas Jefferson\"]])"
   ]
  },
  {
   "cell_type": "code",
   "execution_count": 13,
   "metadata": {},
   "outputs": [],
   "source": [
    "top10_presidents = [pres[0] for pres in top10]\n",
    "top10_score = [score[1] * 100 for score in top10]"
   ]
  },
  {
   "cell_type": "code",
   "execution_count": 14,
   "metadata": {},
   "outputs": [],
   "source": [
    "dot = figure(title=\"Presidential Similarity\", toolbar_location=None, y_range=top10_presidents, x_range=[0,100])\n",
    "dot.segment(0, top10_presidents, top10_score, top10_presidents, line_width=2, line_color=\"red\", )\n",
    "dot.circle(top10_score, top10_presidents, size=15, fill_color=\"red\", line_color=\"red\", line_width=3, )\n",
    "dot.yaxis.axis_label = 'President'\n",
    "dot.xaxis.axis_label = 'Similarity'"
   ]
  },
  {
   "cell_type": "code",
   "execution_count": 15,
   "metadata": {},
   "outputs": [],
   "source": [
    "show(row(dot, sizing_mode=\"scale_width\"))"
   ]
  }
 ],
 "metadata": {
  "kernelspec": {
   "display_name": "Python 3",
   "language": "python",
   "name": "python3"
  },
  "language_info": {
   "codemirror_mode": {
    "name": "ipython",
    "version": 3
   },
   "file_extension": ".py",
   "mimetype": "text/x-python",
   "name": "python",
   "nbconvert_exporter": "python",
   "pygments_lexer": "ipython3",
   "version": "3.7.3"
  }
 },
 "nbformat": 4,
 "nbformat_minor": 2
}
